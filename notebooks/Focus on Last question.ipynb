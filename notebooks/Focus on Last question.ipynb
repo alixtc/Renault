{
 "cells": [
  {
   "cell_type": "code",
   "execution_count": 1,
   "id": "aa1ce851",
   "metadata": {
    "ExecuteTime": {
     "end_time": "2021-09-10T09:15:05.817177Z",
     "start_time": "2021-09-10T09:14:46.991947Z"
    }
   },
   "outputs": [],
   "source": [
    "# Get everything setup for dedicated module loading\n",
    "\n",
    "%load_ext autoreload\n",
    "%autoreload 2\n",
    "from renault.plot import *\n",
    "from renault.get_data import get_pji_with_misssing_fluids_measure\n",
    "from renault.knn_preprocessing import preprocess_data, datetime_reshaping\n",
    "from renault.feature_engineering import feature_engineering\n"
   ]
  },
  {
   "cell_type": "code",
   "execution_count": 2,
   "id": "f6717515",
   "metadata": {
    "ExecuteTime": {
     "end_time": "2021-09-10T09:15:05.864592Z",
     "start_time": "2021-09-10T09:15:05.820085Z"
    }
   },
   "outputs": [],
   "source": [
    "import numpy as np \n",
    "import pandas as pd\n",
    "import datetime \n",
    "\n",
    "import matplotlib.pyplot as plt\n",
    "import seaborn as sns"
   ]
  },
  {
   "cell_type": "code",
   "execution_count": 3,
   "id": "6fefd907",
   "metadata": {
    "ExecuteTime": {
     "end_time": "2021-09-10T09:15:14.242095Z",
     "start_time": "2021-09-10T09:15:05.867010Z"
    }
   },
   "outputs": [],
   "source": [
    "from sklearn.manifold import TSNE\n",
    "from sklearn.neighbors import NearestNeighbors, LocalOutlierFactor\n",
    "from sklearn.pipeline import make_pipeline\n",
    "from sklearn.compose import make_column_transformer\n",
    "from sklearn.preprocessing import StandardScaler, RobustScaler, MinMaxScaler\n",
    "from sklearn.impute import SimpleImputer\n",
    "from sklearn.svm import OneClassSVM\n",
    "from sklearn.ensemble import IsolationForest\n",
    "\n",
    "from sklearn.cluster import KMeans\n",
    "\n",
    "import plotly.graph_objects as go\n",
    "import plotly.express as px"
   ]
  },
  {
   "cell_type": "markdown",
   "id": "8625875a",
   "metadata": {},
   "source": [
    "# Preprocessing of test dataset"
   ]
  },
  {
   "cell_type": "code",
   "execution_count": 8,
   "id": "bc222e7f",
   "metadata": {
    "ExecuteTime": {
     "end_time": "2021-09-10T09:15:20.978973Z",
     "start_time": "2021-09-10T09:15:20.591594Z"
    }
   },
   "outputs": [
    {
     "data": {
      "text/html": [
       "<div>\n",
       "<style scoped>\n",
       "    .dataframe tbody tr th:only-of-type {\n",
       "        vertical-align: middle;\n",
       "    }\n",
       "\n",
       "    .dataframe tbody tr th {\n",
       "        vertical-align: top;\n",
       "    }\n",
       "\n",
       "    .dataframe thead th {\n",
       "        text-align: right;\n",
       "    }\n",
       "</style>\n",
       "<table border=\"1\" class=\"dataframe\">\n",
       "  <thead>\n",
       "    <tr style=\"text-align: right;\">\n",
       "      <th></th>\n",
       "      <th>siteCode</th>\n",
       "      <th>objectUAI</th>\n",
       "      <th>machine</th>\n",
       "      <th>fluid</th>\n",
       "      <th>measurement</th>\n",
       "      <th>step</th>\n",
       "      <th>sourceTimestamp</th>\n",
       "      <th>pji</th>\n",
       "      <th>dataValue</th>\n",
       "      <th>body_type</th>\n",
       "      <th>driving_side</th>\n",
       "      <th>gearbox_type</th>\n",
       "      <th>hybrid_level</th>\n",
       "      <th>engine_type</th>\n",
       "    </tr>\n",
       "  </thead>\n",
       "  <tbody>\n",
       "    <tr>\n",
       "      <th>2</th>\n",
       "      <td>FRLHA</td>\n",
       "      <td>A000003FY5</td>\n",
       "      <td>FillingStation_1</td>\n",
       "      <td>RMFluid</td>\n",
       "      <td>ActVolume</td>\n",
       "      <td>StepLoading</td>\n",
       "      <td>2021-01-28 10:50:38.687000+00:00</td>\n",
       "      <td>4730232.0</td>\n",
       "      <td>823.0</td>\n",
       "      <td>F82</td>\n",
       "      <td>DG</td>\n",
       "      <td>BVM6</td>\n",
       "      <td>NOT_HYBRID</td>\n",
       "      <td>M9R</td>\n",
       "    </tr>\n",
       "    <tr>\n",
       "      <th>3</th>\n",
       "      <td>FRLHA</td>\n",
       "      <td>A000003FY5</td>\n",
       "      <td>FillingStation_1</td>\n",
       "      <td>FRFluid</td>\n",
       "      <td>ActLoadingPressure</td>\n",
       "      <td>StepLoading</td>\n",
       "      <td>2021-01-28 10:50:51.906000+00:00</td>\n",
       "      <td>4730232.0</td>\n",
       "      <td>610.0</td>\n",
       "      <td>F82</td>\n",
       "      <td>DG</td>\n",
       "      <td>BVM6</td>\n",
       "      <td>NOT_HYBRID</td>\n",
       "      <td>M9R</td>\n",
       "    </tr>\n",
       "    <tr>\n",
       "      <th>5</th>\n",
       "      <td>FRLHA</td>\n",
       "      <td>A000003FY5</td>\n",
       "      <td>FillingStation_1</td>\n",
       "      <td>FRFluid</td>\n",
       "      <td>ActVolume</td>\n",
       "      <td>StepLoading</td>\n",
       "      <td>2021-01-28 11:04:23.796000+00:00</td>\n",
       "      <td>5230145.0</td>\n",
       "      <td>31.0</td>\n",
       "      <td>F82</td>\n",
       "      <td>DG</td>\n",
       "      <td>BVM6</td>\n",
       "      <td>NOT_HYBRID</td>\n",
       "      <td>M9R</td>\n",
       "    </tr>\n",
       "    <tr>\n",
       "      <th>11</th>\n",
       "      <td>FRLHA</td>\n",
       "      <td>A000003FY5</td>\n",
       "      <td>FillingStation_1</td>\n",
       "      <td>RMFluid</td>\n",
       "      <td>ActVolume</td>\n",
       "      <td>StepLoading</td>\n",
       "      <td>2021-01-28 11:04:29.703000+00:00</td>\n",
       "      <td>5230145.0</td>\n",
       "      <td>309.0</td>\n",
       "      <td>F82</td>\n",
       "      <td>DG</td>\n",
       "      <td>BVM6</td>\n",
       "      <td>NOT_HYBRID</td>\n",
       "      <td>M9R</td>\n",
       "    </tr>\n",
       "    <tr>\n",
       "      <th>24</th>\n",
       "      <td>FRLHA</td>\n",
       "      <td>A000003FY5</td>\n",
       "      <td>FillingStation_1</td>\n",
       "      <td>RMFluid</td>\n",
       "      <td>ActVolume</td>\n",
       "      <td>StepLoading</td>\n",
       "      <td>2021-01-28 10:50:40.796000+00:00</td>\n",
       "      <td>4730232.0</td>\n",
       "      <td>920.0</td>\n",
       "      <td>F82</td>\n",
       "      <td>DG</td>\n",
       "      <td>BVM6</td>\n",
       "      <td>NOT_HYBRID</td>\n",
       "      <td>M9R</td>\n",
       "    </tr>\n",
       "  </tbody>\n",
       "</table>\n",
       "</div>"
      ],
      "text/plain": [
       "   siteCode   objectUAI           machine    fluid         measurement  \\\n",
       "2     FRLHA  A000003FY5  FillingStation_1  RMFluid           ActVolume   \n",
       "3     FRLHA  A000003FY5  FillingStation_1  FRFluid  ActLoadingPressure   \n",
       "5     FRLHA  A000003FY5  FillingStation_1  FRFluid           ActVolume   \n",
       "11    FRLHA  A000003FY5  FillingStation_1  RMFluid           ActVolume   \n",
       "24    FRLHA  A000003FY5  FillingStation_1  RMFluid           ActVolume   \n",
       "\n",
       "           step                   sourceTimestamp        pji  dataValue  \\\n",
       "2   StepLoading  2021-01-28 10:50:38.687000+00:00  4730232.0      823.0   \n",
       "3   StepLoading  2021-01-28 10:50:51.906000+00:00  4730232.0      610.0   \n",
       "5   StepLoading  2021-01-28 11:04:23.796000+00:00  5230145.0       31.0   \n",
       "11  StepLoading  2021-01-28 11:04:29.703000+00:00  5230145.0      309.0   \n",
       "24  StepLoading  2021-01-28 10:50:40.796000+00:00  4730232.0      920.0   \n",
       "\n",
       "   body_type driving_side gearbox_type hybrid_level engine_type  \n",
       "2        F82           DG         BVM6   NOT_HYBRID         M9R  \n",
       "3        F82           DG         BVM6   NOT_HYBRID         M9R  \n",
       "5        F82           DG         BVM6   NOT_HYBRID         M9R  \n",
       "11       F82           DG         BVM6   NOT_HYBRID         M9R  \n",
       "24       F82           DG         BVM6   NOT_HYBRID         M9R  "
      ]
     },
     "execution_count": 8,
     "metadata": {},
     "output_type": "execute_result"
    }
   ],
   "source": [
    "test = pd.read_csv('../data/inference_df_LHA.csv', index_col='Unnamed: 0')\n",
    "\n",
    "test = test.dropna()\n",
    "test.head()"
   ]
  },
  {
   "cell_type": "code",
   "execution_count": 9,
   "id": "3f765430",
   "metadata": {
    "ExecuteTime": {
     "end_time": "2021-09-10T09:15:23.628131Z",
     "start_time": "2021-09-10T09:15:22.924217Z"
    },
    "scrolled": false
   },
   "outputs": [
    {
     "data": {
      "text/html": [
       "<div>\n",
       "<style scoped>\n",
       "    .dataframe tbody tr th:only-of-type {\n",
       "        vertical-align: middle;\n",
       "    }\n",
       "\n",
       "    .dataframe tbody tr th {\n",
       "        vertical-align: top;\n",
       "    }\n",
       "\n",
       "    .dataframe thead th {\n",
       "        text-align: right;\n",
       "    }\n",
       "</style>\n",
       "<table border=\"1\" class=\"dataframe\">\n",
       "  <thead>\n",
       "    <tr style=\"text-align: right;\">\n",
       "      <th></th>\n",
       "      <th>siteCode</th>\n",
       "      <th>objectUAI</th>\n",
       "      <th>machine</th>\n",
       "      <th>fluid</th>\n",
       "      <th>measurement</th>\n",
       "      <th>step</th>\n",
       "      <th>sourceTimestamp</th>\n",
       "      <th>pji</th>\n",
       "      <th>dataValue</th>\n",
       "      <th>body_type</th>\n",
       "      <th>driving_side</th>\n",
       "      <th>gearbox_type</th>\n",
       "      <th>hybrid_level</th>\n",
       "      <th>engine_type</th>\n",
       "      <th>time</th>\n",
       "      <th>delta</th>\n",
       "    </tr>\n",
       "  </thead>\n",
       "  <tbody>\n",
       "    <tr>\n",
       "      <th>8336</th>\n",
       "      <td>FRLHA</td>\n",
       "      <td>A000003FY5</td>\n",
       "      <td>FillingStation_1</td>\n",
       "      <td>FRFluid</td>\n",
       "      <td>ActLoadingPressure</td>\n",
       "      <td>StepLoading</td>\n",
       "      <td>2021-01-28 10:50:18.296000+00:00</td>\n",
       "      <td>4730232.0</td>\n",
       "      <td>540.0</td>\n",
       "      <td>F82</td>\n",
       "      <td>DG</td>\n",
       "      <td>BVM6</td>\n",
       "      <td>NOT_HYBRID</td>\n",
       "      <td>M9R</td>\n",
       "      <td>2021-01-28 10:50:18.296000+00:00</td>\n",
       "      <td>0.000</td>\n",
       "    </tr>\n",
       "    <tr>\n",
       "      <th>3557</th>\n",
       "      <td>FRLHA</td>\n",
       "      <td>A000003FY5</td>\n",
       "      <td>FillingStation_1</td>\n",
       "      <td>FRFluid</td>\n",
       "      <td>ActLoadingPressure</td>\n",
       "      <td>StepLoading</td>\n",
       "      <td>2021-01-28 10:50:18.687000+00:00</td>\n",
       "      <td>4730232.0</td>\n",
       "      <td>42.0</td>\n",
       "      <td>F82</td>\n",
       "      <td>DG</td>\n",
       "      <td>BVM6</td>\n",
       "      <td>NOT_HYBRID</td>\n",
       "      <td>M9R</td>\n",
       "      <td>2021-01-28 10:50:18.687000+00:00</td>\n",
       "      <td>0.391</td>\n",
       "    </tr>\n",
       "    <tr>\n",
       "      <th>4446</th>\n",
       "      <td>FRLHA</td>\n",
       "      <td>A000003FY5</td>\n",
       "      <td>FillingStation_1</td>\n",
       "      <td>FRFluid</td>\n",
       "      <td>ActLoadingPressure</td>\n",
       "      <td>StepLoading</td>\n",
       "      <td>2021-01-28 10:50:18.906000+00:00</td>\n",
       "      <td>4730232.0</td>\n",
       "      <td>60.0</td>\n",
       "      <td>F82</td>\n",
       "      <td>DG</td>\n",
       "      <td>BVM6</td>\n",
       "      <td>NOT_HYBRID</td>\n",
       "      <td>M9R</td>\n",
       "      <td>2021-01-28 10:50:18.906000+00:00</td>\n",
       "      <td>0.219</td>\n",
       "    </tr>\n",
       "    <tr>\n",
       "      <th>3877</th>\n",
       "      <td>FRLHA</td>\n",
       "      <td>A000003FY5</td>\n",
       "      <td>FillingStation_1</td>\n",
       "      <td>FRFluid</td>\n",
       "      <td>ActLoadingPressure</td>\n",
       "      <td>StepLoading</td>\n",
       "      <td>2021-01-28 10:50:19.093000+00:00</td>\n",
       "      <td>4730232.0</td>\n",
       "      <td>61.0</td>\n",
       "      <td>F82</td>\n",
       "      <td>DG</td>\n",
       "      <td>BVM6</td>\n",
       "      <td>NOT_HYBRID</td>\n",
       "      <td>M9R</td>\n",
       "      <td>2021-01-28 10:50:19.093000+00:00</td>\n",
       "      <td>0.187</td>\n",
       "    </tr>\n",
       "    <tr>\n",
       "      <th>2199</th>\n",
       "      <td>FRLHA</td>\n",
       "      <td>A000003FY5</td>\n",
       "      <td>FillingStation_1</td>\n",
       "      <td>FRFluid</td>\n",
       "      <td>ActLoadingPressure</td>\n",
       "      <td>StepLoading</td>\n",
       "      <td>2021-01-28 10:50:19.406000+00:00</td>\n",
       "      <td>4730232.0</td>\n",
       "      <td>62.0</td>\n",
       "      <td>F82</td>\n",
       "      <td>DG</td>\n",
       "      <td>BVM6</td>\n",
       "      <td>NOT_HYBRID</td>\n",
       "      <td>M9R</td>\n",
       "      <td>2021-01-28 10:50:19.406000+00:00</td>\n",
       "      <td>0.313</td>\n",
       "    </tr>\n",
       "  </tbody>\n",
       "</table>\n",
       "</div>"
      ],
      "text/plain": [
       "     siteCode   objectUAI           machine    fluid         measurement  \\\n",
       "8336    FRLHA  A000003FY5  FillingStation_1  FRFluid  ActLoadingPressure   \n",
       "3557    FRLHA  A000003FY5  FillingStation_1  FRFluid  ActLoadingPressure   \n",
       "4446    FRLHA  A000003FY5  FillingStation_1  FRFluid  ActLoadingPressure   \n",
       "3877    FRLHA  A000003FY5  FillingStation_1  FRFluid  ActLoadingPressure   \n",
       "2199    FRLHA  A000003FY5  FillingStation_1  FRFluid  ActLoadingPressure   \n",
       "\n",
       "             step                   sourceTimestamp        pji  dataValue  \\\n",
       "8336  StepLoading  2021-01-28 10:50:18.296000+00:00  4730232.0      540.0   \n",
       "3557  StepLoading  2021-01-28 10:50:18.687000+00:00  4730232.0       42.0   \n",
       "4446  StepLoading  2021-01-28 10:50:18.906000+00:00  4730232.0       60.0   \n",
       "3877  StepLoading  2021-01-28 10:50:19.093000+00:00  4730232.0       61.0   \n",
       "2199  StepLoading  2021-01-28 10:50:19.406000+00:00  4730232.0       62.0   \n",
       "\n",
       "     body_type driving_side gearbox_type hybrid_level engine_type  \\\n",
       "8336       F82           DG         BVM6   NOT_HYBRID         M9R   \n",
       "3557       F82           DG         BVM6   NOT_HYBRID         M9R   \n",
       "4446       F82           DG         BVM6   NOT_HYBRID         M9R   \n",
       "3877       F82           DG         BVM6   NOT_HYBRID         M9R   \n",
       "2199       F82           DG         BVM6   NOT_HYBRID         M9R   \n",
       "\n",
       "                                 time  delta  \n",
       "8336 2021-01-28 10:50:18.296000+00:00  0.000  \n",
       "3557 2021-01-28 10:50:18.687000+00:00  0.391  \n",
       "4446 2021-01-28 10:50:18.906000+00:00  0.219  \n",
       "3877 2021-01-28 10:50:19.093000+00:00  0.187  \n",
       "2199 2021-01-28 10:50:19.406000+00:00  0.313  "
      ]
     },
     "execution_count": 9,
     "metadata": {},
     "output_type": "execute_result"
    }
   ],
   "source": [
    "test_reshaped = datetime_reshaping(test)\n",
    "test_reshaped.head()"
   ]
  },
  {
   "cell_type": "markdown",
   "id": "f87b393e",
   "metadata": {},
   "source": [
    "# Case of Junary 29th"
   ]
  },
  {
   "cell_type": "markdown",
   "id": "fbc6b467",
   "metadata": {},
   "source": [
    "Jump from 28/01 to 01/02"
   ]
  },
  {
   "cell_type": "code",
   "execution_count": null,
   "id": "e86e9a32",
   "metadata": {
    "ExecuteTime": {
     "end_time": "2021-09-09T07:04:53.597870Z",
     "start_time": "2021-09-09T07:04:53.544260Z"
    }
   },
   "outputs": [],
   "source": [
    "case = test[test.time.dt.month == 1]"
   ]
  },
  {
   "cell_type": "code",
   "execution_count": null,
   "id": "a37c88ae",
   "metadata": {
    "ExecuteTime": {
     "end_time": "2021-09-09T07:05:05.984529Z",
     "start_time": "2021-09-09T07:05:03.913087Z"
    }
   },
   "outputs": [],
   "source": [
    "for pji in case.pji.unique()[:5]:\n",
    "    plot_all_fluid(test, pji)"
   ]
  },
  {
   "cell_type": "code",
   "execution_count": null,
   "id": "095a7e4e",
   "metadata": {
    "ExecuteTime": {
     "end_time": "2021-09-07T20:54:28.312850Z",
     "start_time": "2021-09-07T20:54:28.258976Z"
    }
   },
   "outputs": [],
   "source": [
    "case = df.groupby('pji')['time'].mean().reset_index().tail()['pji']"
   ]
  },
  {
   "cell_type": "code",
   "execution_count": null,
   "id": "1ef00d49",
   "metadata": {
    "ExecuteTime": {
     "end_time": "2021-09-07T20:54:58.120546Z",
     "start_time": "2021-09-07T20:54:52.568519Z"
    }
   },
   "outputs": [],
   "source": [
    "for pji in case:\n",
    "    plot_all_fluid(df, pji)"
   ]
  },
  {
   "cell_type": "code",
   "execution_count": null,
   "id": "5a71e86c",
   "metadata": {
    "ExecuteTime": {
     "end_time": "2021-09-07T21:01:00.959431Z",
     "start_time": "2021-09-07T21:01:00.885532Z"
    }
   },
   "outputs": [],
   "source": [
    "temp = df.groupby(['pji', 'fluid'])['time'].min().reset_index()\n",
    "temp = pd.pivot(temp, index=['pji'],values=['time'], columns=['fluid'])"
   ]
  },
  {
   "cell_type": "code",
   "execution_count": null,
   "id": "745c969d",
   "metadata": {
    "ExecuteTime": {
     "end_time": "2021-09-07T21:01:28.986695Z",
     "start_time": "2021-09-07T21:01:28.938451Z"
    }
   },
   "outputs": [],
   "source": [
    "temp.columns = ['FR', 'RM']"
   ]
  },
  {
   "cell_type": "code",
   "execution_count": null,
   "id": "72dabb14",
   "metadata": {
    "ExecuteTime": {
     "end_time": "2021-09-07T21:01:51.101157Z",
     "start_time": "2021-09-07T21:01:51.045482Z"
    }
   },
   "outputs": [],
   "source": []
  },
  {
   "cell_type": "code",
   "execution_count": null,
   "id": "b316ed9f",
   "metadata": {
    "ExecuteTime": {
     "end_time": "2021-09-08T19:03:22.464620Z",
     "start_time": "2021-09-08T19:03:22.337793Z"
    }
   },
   "outputs": [],
   "source": [
    "dfafter= test_reshaped[test_reshaped.time.dt.date != pd.to_datetime('2021-01-28')]"
   ]
  },
  {
   "cell_type": "code",
   "execution_count": null,
   "id": "d13aee32",
   "metadata": {
    "ExecuteTime": {
     "end_time": "2021-09-08T19:03:04.636103Z",
     "start_time": "2021-09-08T19:03:04.579280Z"
    }
   },
   "outputs": [],
   "source": [
    "df28.groupby(['pji', 'fluid', 'measurement'])['dataValue'].count()"
   ]
  },
  {
   "cell_type": "code",
   "execution_count": null,
   "id": "5a21df95",
   "metadata": {
    "ExecuteTime": {
     "end_time": "2021-09-09T07:32:10.981822Z",
     "start_time": "2021-09-09T07:32:10.917597Z"
    }
   },
   "outputs": [],
   "source": [
    "dfafter.groupby(['pji', 'fluid', 'measurement'])['dataValue'].count().reset_index()\\\n",
    ".groupby(['pji'])['dataValue'].count()"
   ]
  },
  {
   "cell_type": "code",
   "execution_count": null,
   "id": "4041ee3c",
   "metadata": {},
   "outputs": [],
   "source": []
  }
 ],
 "metadata": {
  "kernelspec": {
   "display_name": "Python 3 (ipykernel)",
   "language": "python",
   "name": "python3"
  },
  "language_info": {
   "codemirror_mode": {
    "name": "ipython",
    "version": 3
   },
   "file_extension": ".py",
   "mimetype": "text/x-python",
   "name": "python",
   "nbconvert_exporter": "python",
   "pygments_lexer": "ipython3",
   "version": "3.8.6"
  },
  "toc": {
   "base_numbering": 1,
   "nav_menu": {},
   "number_sections": true,
   "sideBar": true,
   "skip_h1_title": false,
   "title_cell": "Table of Contents",
   "title_sidebar": "Contents",
   "toc_cell": false,
   "toc_position": {},
   "toc_section_display": true,
   "toc_window_display": true
  }
 },
 "nbformat": 4,
 "nbformat_minor": 5
}
